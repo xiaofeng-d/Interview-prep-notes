{
 "cells": [
  {
   "cell_type": "markdown",
   "id": "0123e36a",
   "metadata": {},
   "source": [
    "#### Understanding  multiple regression coefficient from simple regression coefficient\n",
    "#### Here we do a very simple linear regression test. \n",
    "#### (1) Generate Y = b1* X1 + b2* X2 + e, with X1 and X2 weakly correlated with each other (with corr = rho) \n",
    "#### (2) Regress X2~X1, take the residual X2 - X2^hat (X2 adjusted for X1)\n",
    "#### (3) Then regress Y~ (X2-X2^hat). We'll get a coefficient the same as the multiple regression X2 coefficient for Y~(X1,X2):\n",
    "\n",
    "The Multiple Regression coefficient for a certain variable, can be understood as the 'simple regression coefficient' after it's adjusted for other variables."
   ]
  },
  {
   "cell_type": "code",
   "execution_count": 12,
   "id": "e9d5b680",
   "metadata": {
    "scrolled": false
   },
   "outputs": [
    {
     "name": "stdout",
     "output_type": "stream",
     "text": [
      "[[ 1.         -0.00460955]\n",
      " [-0.00460955  1.        ]]\n",
      "[[1.         0.14678641]\n",
      " [0.14678641 1.        ]]\n"
     ]
    },
    {
     "data": {
      "text/plain": [
       "(array([5.44185482, 9.39478548, 9.46328378, 6.99507966, 8.03178921]),\n",
       " array([0.37454012, 0.95071431, 0.73199394, 0.59865848, 0.15601864]),\n",
       " array([0.16993386, 0.7447827 , 0.24168087, 0.32766636, 0.3468406 ]))"
      ]
     },
     "execution_count": 12,
     "metadata": {},
     "output_type": "execute_result"
    }
   ],
   "source": [
    "import numpy as np\n",
    "import statsmodels.api as sm\n",
    "from sklearn.linear_model import LinearRegression\n",
    "# Parameters\n",
    "\n",
    "n_samples = 1000  # number of samples\n",
    "a = 5\n",
    "b1 = 3\n",
    "b2 = 2\n",
    "\n",
    "# Generate X1 and X2\n",
    "np.random.seed(42)  # for reproducibility\n",
    "X1 = np.random.rand(n_samples)\n",
    "# print(X1)\n",
    "np.random.seed(43)  # for reproducibility\n",
    "X2 = np.random.rand(n_samples)\n",
    "print(np.corrcoef(X1,X2))\n",
    "\n",
    "# Make X1 and X2 correlated by rho\n",
    "rho = 0.15\n",
    "X2 = rho*X1 + np.sqrt(1-rho**2)*X2\n",
    "print(np.corrcoef(X1,X2))\n",
    "\n",
    "# Generate random error e\n",
    "e = np.random.randn(n)\n",
    "\n",
    "# Generate Y\n",
    "Y = a + b1 * X1 + b2 * X2 + e\n",
    "\n",
    "# Step 1: Dataset\n",
    "Y[:5], X1[:5], X2[:5]  # Display first 5 entries for verification"
   ]
  },
  {
   "cell_type": "code",
   "execution_count": 19,
   "id": "bc97b98a",
   "metadata": {
    "scrolled": true
   },
   "outputs": [
    {
     "name": "stdout",
     "output_type": "stream",
     "text": [
      "beta_y_x1 [3.23328107]\n",
      "beta_x2_x1 [0.14548088]\n",
      "beta_yx1_x2x1 [1.97208854]\n",
      "beta_y_x2x1 [1.97208854]\n",
      "coef [2.94637989 1.97208854]\n",
      "beta_x1_x2x1 [7.97193061e-17]\n"
     ]
    }
   ],
   "source": [
    "# check linear regression \n",
    "def get_beta(Y,X):\n",
    "    if(X.ndim == 1):\n",
    "        X = X.reshape(-1,1)\n",
    "    reg = LinearRegression().fit(X,Y)\n",
    "    return reg.coef_, reg.predict(X)\n",
    "# def get_yhat(Y,X):\n",
    "\n",
    "beta_y_x1, yhat = get_beta(Y,X1)\n",
    "y_x1 = Y-yhat # Y removing X1\n",
    "print('beta_y_x1',beta_y_x1)\n",
    "beta_x2_x1, x2hat = get_beta(X2,X1)\n",
    "x2_x1 = X2-x2hat\n",
    "print('beta_x2_x1',beta_x2_x1)\n",
    "beta_yx1_x2x1, _ = get_beta(y_x1, x2_x1)\n",
    "print('beta_yx1_x2x1', beta_yx1_x2x1)\n",
    "\n",
    "beta_y_x2x1, _ = get_beta(Y, x2_x1)\n",
    "print('beta_y_x2x1',beta_y_x2x1)\n",
    "\n",
    "combined = np.column_stack((X1,X2))\n",
    "coef, _ = get_beta(Y, combined)\n",
    "print('coef', coef)\n",
    "\n",
    "beta_x1_x2x1, _ = get_beta(X1, x2_x1)\n",
    "print('beta_x1_x2x1',beta_x1_x2x1)"
   ]
  },
  {
   "cell_type": "code",
   "execution_count": null,
   "id": "5e79a528",
   "metadata": {},
   "outputs": [],
   "source": []
  }
 ],
 "metadata": {
  "kernelspec": {
   "display_name": "Python 3",
   "language": "python",
   "name": "python3"
  },
  "language_info": {
   "codemirror_mode": {
    "name": "ipython",
    "version": 3
   },
   "file_extension": ".py",
   "mimetype": "text/x-python",
   "name": "python",
   "nbconvert_exporter": "python",
   "pygments_lexer": "ipython3",
   "version": "3.8.8"
  }
 },
 "nbformat": 4,
 "nbformat_minor": 5
}
