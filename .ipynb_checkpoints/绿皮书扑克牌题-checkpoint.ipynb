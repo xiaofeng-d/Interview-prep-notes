{
 "cells": [
  {
   "cell_type": "code",
   "execution_count": 1,
   "id": "a7203597",
   "metadata": {},
   "outputs": [],
   "source": [
    "import numpy as np"
   ]
  },
  {
   "cell_type": "code",
   "execution_count": 15,
   "id": "002e8e6e",
   "metadata": {},
   "outputs": [
    {
     "name": "stdout",
     "output_type": "stream",
     "text": [
      "2.6244755489939244\n"
     ]
    }
   ],
   "source": [
    "N = 52\n",
    "n = int(N/2)\n",
    "\n",
    "dp = [[0 for _ in range(n+1)] for _ in range(n+1)]\n",
    "for i in range(n+1):\n",
    "    dp[i][0] = i\n",
    "    dp[0][i] = 0\n",
    "for i in range(1,n+1):\n",
    "    for j in range(1,n+1):\n",
    "        dp[i][j] = max( i/(i+j) * dp[i-1][j] + j/(i+j) * dp[i][j-1], i-j)\n",
    "        \n",
    "        \n",
    "print(dp[n][n])"
   ]
  },
  {
   "cell_type": "code",
   "execution_count": 26,
   "id": "bfae16fc",
   "metadata": {},
   "outputs": [],
   "source": [
    "# for row in dp:\n",
    "#     print(row)"
   ]
  },
  {
   "cell_type": "code",
   "execution_count": 25,
   "id": "bfd57b94",
   "metadata": {},
   "outputs": [
    {
     "name": "stdout",
     "output_type": "stream",
     "text": [
      "2.6244755489939244\n"
     ]
    }
   ],
   "source": [
    "## less memory version \n",
    "\n",
    "N = 52\n",
    "n = int(N/2)\n",
    "\n",
    "dp = [[0 for _ in range(2)] for _ in range(n+1)]\n",
    "for i in range(n+1):\n",
    "    dp[i][0] = i\n",
    "#     dp[0][i] = 0\n",
    "for j in range(1,n+1):\n",
    "#     print(dp)\n",
    "    for i in range(1,n+1):\n",
    "        dp[i][j%2] = max( i/(i+j) * dp[i-1][j%2] + j/(i+j) * dp[i][(j-1)%2], i-j)\n",
    "#         print(i, ',',j%2,  i-1, ',',j%2, i, ' , ',  (j-1)%2)\n",
    "print(dp[n][n%2])"
   ]
  },
  {
   "cell_type": "code",
   "execution_count": 36,
   "id": "562fe2f4",
   "metadata": {},
   "outputs": [
    {
     "name": "stdout",
     "output_type": "stream",
     "text": [
      "[2.03308462 1.06666667 0.        ]\n",
      "0.026666914090913853\n"
     ]
    }
   ],
   "source": [
    "import numpy as np\n",
    "def locate_point(distance, n):\n",
    "#     x = np.array([0]*n)\n",
    "    x = np.random.rand(n)\n",
    "    l_rate=0.001\n",
    "    min_step=0.000001\n",
    "    max_steps=100000\n",
    "    for step in range(max_steps):\n",
    "        delta=[0]\n",
    "        jump_out = True\n",
    "        for i in range(1,n):\n",
    "            grad=0\n",
    "            for j in range(n):\n",
    "                grad += -2*(distance[i][j]-(x[i]-x[j]))\n",
    "                grad += 2*(distance[j][i]-(x[j]-x[i]))\n",
    "            delta.append(l_rate*grad)\n",
    "            if abs(l_rate*grad)>min_step:\n",
    "                jump_out=False\n",
    "        x=x-np.array(delta)\n",
    "        if jump_out:\n",
    "            break\n",
    "    min_x=min(x)\n",
    "    for i in range(n):\n",
    "        x[i]-=min_x\n",
    "    return x\n",
    "\n",
    "distance = [[0.0,0.9, 2.1], [-0.9, 0.0, 1.0], [-2.1, -1.0, 0.0]]\n",
    "\n",
    "# distance=[[0, 1.0, -14, -0.9], [-1.0, 0, -15, -2.1], [14, 15, 0, 13], [0.9, 2.1, -13, 0]]\n",
    "#distance=[[0,-1.1,-2.3],[1.1,0,-1.1],[2.3,1.1,0]]\n",
    "n = len(distance)\n",
    "x=locate_point(distance,n)\n",
    "#x=[1.05,0,15.025,2.025]\n",
    "error=0\n",
    "for i in range(n):\n",
    "    for j in range(n):\n",
    "        error+=(distance[i][j]-x[i]+x[j])**2\n",
    "print(x)\n",
    "print(error)"
   ]
  },
  {
   "cell_type": "code",
   "execution_count": null,
   "id": "6b8f3bf6",
   "metadata": {},
   "outputs": [],
   "source": []
  }
 ],
 "metadata": {
  "kernelspec": {
   "display_name": "Python 3",
   "language": "python",
   "name": "python3"
  },
  "language_info": {
   "codemirror_mode": {
    "name": "ipython",
    "version": 3
   },
   "file_extension": ".py",
   "mimetype": "text/x-python",
   "name": "python",
   "nbconvert_exporter": "python",
   "pygments_lexer": "ipython3",
   "version": "3.8.8"
  }
 },
 "nbformat": 4,
 "nbformat_minor": 5
}
