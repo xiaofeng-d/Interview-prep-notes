{
 "cells": [
  {
   "cell_type": "code",
   "execution_count": 1,
   "id": "e42495c6",
   "metadata": {},
   "outputs": [],
   "source": [
    "import bisect"
   ]
  },
  {
   "cell_type": "code",
   "execution_count": 2,
   "id": "f20a7b6f",
   "metadata": {},
   "outputs": [
    {
     "data": {
      "text/plain": [
       "6"
      ]
     },
     "execution_count": 2,
     "metadata": {},
     "output_type": "execute_result"
    }
   ],
   "source": [
    "a = [1,3,4,5,7,8, 13, 15, 26,27]\n",
    "bisect.bisect_left(a, 9)"
   ]
  },
  {
   "cell_type": "code",
   "execution_count": null,
   "id": "f156e294",
   "metadata": {},
   "outputs": [],
   "source": [
    "# 注意到 a的0-5都会比9小,如果将9插入在a[6]的位置则正好有序。返回的位置i满足 a[0:i] < 9 （不包括i） a[i:] >9 （包括i）"
   ]
  }
 ],
 "metadata": {
  "kernelspec": {
   "display_name": "Python 3",
   "language": "python",
   "name": "python3"
  },
  "language_info": {
   "codemirror_mode": {
    "name": "ipython",
    "version": 3
   },
   "file_extension": ".py",
   "mimetype": "text/x-python",
   "name": "python",
   "nbconvert_exporter": "python",
   "pygments_lexer": "ipython3",
   "version": "3.8.8"
  }
 },
 "nbformat": 4,
 "nbformat_minor": 5
}
