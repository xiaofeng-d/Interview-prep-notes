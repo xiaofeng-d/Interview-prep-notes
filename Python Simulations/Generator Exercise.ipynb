{
 "cells": [
  {
   "cell_type": "code",
   "execution_count": 7,
   "id": "9413abaf",
   "metadata": {},
   "outputs": [
    {
     "name": "stdout",
     "output_type": "stream",
     "text": [
      "1\n",
      "1\n",
      "2\n",
      "2\n",
      "3\n"
     ]
    }
   ],
   "source": [
    "def simpleGenerator():\n",
    "    yield 1\n",
    "    yield 2 \n",
    "    yield 3\n",
    "\n",
    "x = simpleGenerator()\n",
    "y = simpleGenerator()\n",
    "print(next(x))\n",
    "print(next(y))\n",
    "print(next(x))\n",
    "print(next(y))\n",
    "# print(next(x))\n",
    "print(next(y))\n",
    "# print(next(x))\n"
   ]
  },
  {
   "cell_type": "code",
   "execution_count": 19,
   "id": "6b866bfe",
   "metadata": {},
   "outputs": [
    {
     "name": "stdout",
     "output_type": "stream",
     "text": [
      "0\n",
      "1\n",
      "1\n",
      "2\n",
      "3\n",
      "5\n",
      "8\n"
     ]
    }
   ],
   "source": [
    "def fib(limit):\n",
    "    \n",
    "    a, b = 0,1\n",
    "    while a<limit:\n",
    "        yield a \n",
    "        a, b = b, a+b\n",
    "        \n",
    "\n",
    "        \n",
    "x = fib(10)\n",
    "\n",
    "for _ in range(7):\n",
    "    print(next(x))"
   ]
  },
  {
   "cell_type": "code",
   "execution_count": 8,
   "id": "83545282",
   "metadata": {},
   "outputs": [],
   "source": [
    "nums_squared_gc = (num**2 for num in range(5))"
   ]
  },
  {
   "cell_type": "code",
   "execution_count": 10,
   "id": "42b43e09",
   "metadata": {},
   "outputs": [
    {
     "data": {
      "text/plain": [
       "<generator object <genexpr> at 0x7fb478086270>"
      ]
     },
     "execution_count": 10,
     "metadata": {},
     "output_type": "execute_result"
    }
   ],
   "source": [
    "nums_squared_gc"
   ]
  },
  {
   "cell_type": "code",
   "execution_count": 14,
   "id": "5215c604",
   "metadata": {},
   "outputs": [
    {
     "name": "stdout",
     "output_type": "stream",
     "text": [
      "9\n"
     ]
    }
   ],
   "source": [
    "print(next(nums_squared_gc))"
   ]
  },
  {
   "cell_type": "code",
   "execution_count": null,
   "id": "8fc1b2f4",
   "metadata": {},
   "outputs": [],
   "source": []
  }
 ],
 "metadata": {
  "kernelspec": {
   "display_name": "Python 3",
   "language": "python",
   "name": "python3"
  },
  "language_info": {
   "codemirror_mode": {
    "name": "ipython",
    "version": 3
   },
   "file_extension": ".py",
   "mimetype": "text/x-python",
   "name": "python",
   "nbconvert_exporter": "python",
   "pygments_lexer": "ipython3",
   "version": "3.8.8"
  }
 },
 "nbformat": 4,
 "nbformat_minor": 5
}
