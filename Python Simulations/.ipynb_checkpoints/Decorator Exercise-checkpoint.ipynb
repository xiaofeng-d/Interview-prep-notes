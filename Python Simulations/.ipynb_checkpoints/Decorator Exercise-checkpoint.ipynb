{
 "cells": [
  {
   "cell_type": "code",
   "execution_count": 1,
   "id": "c4240a51",
   "metadata": {},
   "outputs": [],
   "source": [
    "def decorator_with_args(arg):\n",
    "    def wrapper(func):\n",
    "        def inner(*args, **kwargs):\n",
    "            print(arg)\n",
    "            return func(*args, **kwargs)\n",
    "        return inner\n",
    "    return wrapper\n",
    "\n",
    "@decorator_with_args(\"Hello\")\n",
    "def greet(name):\n",
    "    print(f\"Hi, {name}!\")"
   ]
  },
  {
   "cell_type": "code",
   "execution_count": 3,
   "id": "55e4a6d6",
   "metadata": {},
   "outputs": [
    {
     "name": "stdout",
     "output_type": "stream",
     "text": [
      "Hello\n",
      "Hi, Dong!\n"
     ]
    }
   ],
   "source": [
    "greet('Dong')"
   ]
  },
  {
   "cell_type": "code",
   "execution_count": 7,
   "id": "a63ec399",
   "metadata": {},
   "outputs": [
    {
     "data": {
      "text/plain": [
       "6"
      ]
     },
     "execution_count": 7,
     "metadata": {},
     "output_type": "execute_result"
    }
   ],
   "source": [
    "# a function\n",
    "def plus_one(number):\n",
    "    return number+1\n",
    "\n",
    "add_one = plus_one\n",
    "add_one(5)"
   ]
  },
  {
   "cell_type": "code",
   "execution_count": 9,
   "id": "fc4f647e",
   "metadata": {},
   "outputs": [
    {
     "data": {
      "text/plain": [
       "5"
      ]
     },
     "execution_count": 9,
     "metadata": {},
     "output_type": "execute_result"
    }
   ],
   "source": [
    "# define a funtion inside a function\n",
    "def plus_one(number):\n",
    "    def add_one(number):\n",
    "        return number+1\n",
    "    \n",
    "    result = add_one(number)\n",
    "    return result\n",
    "\n",
    "plus_one(4)"
   ]
  },
  {
   "cell_type": "code",
   "execution_count": 10,
   "id": "5c0b92f5",
   "metadata": {},
   "outputs": [
    {
     "data": {
      "text/plain": [
       "6"
      ]
     },
     "execution_count": 10,
     "metadata": {},
     "output_type": "execute_result"
    }
   ],
   "source": [
    "# passing functions as argumernts\n",
    "def plus_one(number):\n",
    "    return number+1\n",
    "\n",
    "def function_call(function):\n",
    "    number_to_add = 5\n",
    "    return function(number_to_add)\n",
    "\n",
    "function_call(plus_one)"
   ]
  },
  {
   "cell_type": "code",
   "execution_count": 12,
   "id": "7ca97be9",
   "metadata": {},
   "outputs": [
    {
     "name": "stdout",
     "output_type": "stream",
     "text": [
      "some random message\n"
     ]
    }
   ],
   "source": [
    "# functions returning other functions\n",
    "def hello_function():\n",
    "    def say_hi():\n",
    "        return \"Hi\"\n",
    "    return say_hi\n",
    "\n",
    "hello = hello_function()\n",
    "hello()\n",
    "\n",
    "# nested functions have access to the Enclosing Function's variable scope\n",
    "def print_message(message):\n",
    "    \"enclosing function\"\n",
    "    def message_sender():\n",
    "        \"nested function\"\n",
    "        print(message)\n",
    "    message_sender()\n",
    "\n",
    "print_message(\"some random message\")"
   ]
  },
  {
   "cell_type": "code",
   "execution_count": 14,
   "id": "ec3d2820",
   "metadata": {},
   "outputs": [
    {
     "data": {
      "text/plain": [
       "'HELLO THERE'"
      ]
     },
     "execution_count": 14,
     "metadata": {},
     "output_type": "execute_result"
    }
   ],
   "source": [
    "# create a simple decorator\n",
    "def uppercase_decorator(function):\n",
    "    def wrapper():\n",
    "        func = function()\n",
    "        make_uppercase = func.upper()\n",
    "        return make_uppercase\n",
    "    return wrapper\n",
    "\n",
    "def say_hi():\n",
    "    return \"hello there\"\n",
    "decorate = uppercase_decorator(say_hi)\n",
    "decorate()\n",
    "\n",
    "# wrapper function 把function()调用的结果，做一个大写，然后返回这个结果"
   ]
  },
  {
   "cell_type": "code",
   "execution_count": null,
   "id": "cf83880a",
   "metadata": {},
   "outputs": [],
   "source": []
  }
 ],
 "metadata": {
  "kernelspec": {
   "display_name": "Python 3",
   "language": "python",
   "name": "python3"
  },
  "language_info": {
   "codemirror_mode": {
    "name": "ipython",
    "version": 3
   },
   "file_extension": ".py",
   "mimetype": "text/x-python",
   "name": "python",
   "nbconvert_exporter": "python",
   "pygments_lexer": "ipython3",
   "version": "3.8.8"
  }
 },
 "nbformat": 4,
 "nbformat_minor": 5
}
