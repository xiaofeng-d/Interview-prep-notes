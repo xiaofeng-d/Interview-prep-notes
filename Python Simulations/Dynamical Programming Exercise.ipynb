{
 "cells": [
  {
   "cell_type": "code",
   "execution_count": 39,
   "id": "34304ad3",
   "metadata": {},
   "outputs": [],
   "source": [
    "# job scheduling problem\n",
    "\n",
    "import numpy as np\n",
    "from bisect import bisect_left, bisect_right"
   ]
  },
  {
   "cell_type": "code",
   "execution_count": 11,
   "id": "27bc0e48",
   "metadata": {},
   "outputs": [],
   "source": [
    "end = np.random.randint(10, size=10)\n",
    "start = end - np.random.randint(5,size=10)\n",
    "values = np.random.randint(20,size=10)"
   ]
  },
  {
   "cell_type": "code",
   "execution_count": 12,
   "id": "c6dd1876",
   "metadata": {},
   "outputs": [
    {
     "data": {
      "text/plain": [
       "array([ 1,  4,  6,  4, -4,  1, -3,  0,  4, -2])"
      ]
     },
     "execution_count": 12,
     "metadata": {},
     "output_type": "execute_result"
    }
   ],
   "source": [
    "start"
   ]
  },
  {
   "cell_type": "code",
   "execution_count": 13,
   "id": "7c8672cd",
   "metadata": {},
   "outputs": [
    {
     "data": {
      "text/plain": [
       "array([1, 5, 9, 7, 0, 2, 0, 4, 8, 2])"
      ]
     },
     "execution_count": 13,
     "metadata": {},
     "output_type": "execute_result"
    }
   ],
   "source": [
    "end"
   ]
  },
  {
   "cell_type": "code",
   "execution_count": 18,
   "id": "31e7ed51",
   "metadata": {},
   "outputs": [],
   "source": [
    "jobs = list(zip(start,end))"
   ]
  },
  {
   "cell_type": "code",
   "execution_count": 19,
   "id": "f9a7c546",
   "metadata": {},
   "outputs": [
    {
     "data": {
      "text/plain": [
       "[(-4, 0),\n",
       " (-3, 0),\n",
       " (1, 1),\n",
       " (1, 2),\n",
       " (-2, 2),\n",
       " (0, 4),\n",
       " (4, 5),\n",
       " (4, 7),\n",
       " (4, 8),\n",
       " (6, 9)]"
      ]
     },
     "execution_count": 19,
     "metadata": {},
     "output_type": "execute_result"
    }
   ],
   "source": [
    "jobs = sorted(jobs, key=lambda x:x[1])\n",
    "jobs"
   ]
  },
  {
   "cell_type": "code",
   "execution_count": 20,
   "id": "8d9c5b8b",
   "metadata": {},
   "outputs": [],
   "source": [
    "starttimes = [i[0] for i in jobs]\n",
    "endtimes = [i[1] for i in jobs]"
   ]
  },
  {
   "cell_type": "code",
   "execution_count": 23,
   "id": "35b3691b",
   "metadata": {},
   "outputs": [
    {
     "data": {
      "text/plain": [
       "array([ 3,  7,  7, 18,  0, 12, 13,  8, 19,  4])"
      ]
     },
     "execution_count": 23,
     "metadata": {},
     "output_type": "execute_result"
    }
   ],
   "source": [
    "values"
   ]
  },
  {
   "cell_type": "code",
   "execution_count": 57,
   "id": "931b0556",
   "metadata": {
    "scrolled": true
   },
   "outputs": [
    {
     "name": "stdout",
     "output_type": "stream",
     "text": [
      "endtimes: [0]\n",
      "starttime [-4]\n",
      "dp=  [3, 7, 0, 0, 0, 0, 0, 0, 0, 0]\n",
      "endtimes: [0, 0]\n",
      "starttime [-4, -3]\n",
      "k= 1\n",
      "found endtime 0 start time 1\n",
      "dp=  [3, 7, 14, 0, 0, 0, 0, 0, 0, 0]\n",
      "endtimes: [0, 0, 1]\n",
      "starttime [-4, -3, 1]\n",
      "k= 2\n",
      "found endtime 1 start time 1\n",
      "dp=  [3, 7, 14, 32, 0, 0, 0, 0, 0, 0]\n",
      "endtimes: [0, 0, 1, 2]\n",
      "starttime [-4, -3, 1, 1]\n",
      "dp=  [3, 7, 14, 32, 32, 0, 0, 0, 0, 0]\n",
      "endtimes: [0, 0, 1, 2, 2]\n",
      "starttime [-4, -3, 1, 1, -2]\n",
      "k= 1\n",
      "found endtime 0 start time 0\n",
      "dp=  [3, 7, 14, 32, 32, 32, 0, 0, 0, 0]\n",
      "endtimes: [0, 0, 1, 2, 2, 4]\n",
      "starttime [-4, -3, 1, 1, -2, 0]\n",
      "k= 5\n",
      "found endtime 4 start time 4\n",
      "dp=  [3, 7, 14, 32, 32, 32, 45, 0, 0, 0]\n",
      "endtimes: [0, 0, 1, 2, 2, 4, 5]\n",
      "starttime [-4, -3, 1, 1, -2, 0, 4]\n",
      "k= 5\n",
      "found endtime 4 start time 4\n",
      "dp=  [3, 7, 14, 32, 32, 32, 45, 45, 0, 0]\n",
      "endtimes: [0, 0, 1, 2, 2, 4, 5, 7]\n",
      "starttime [-4, -3, 1, 1, -2, 0, 4, 4]\n",
      "k= 5\n",
      "found endtime 4 start time 4\n",
      "dp=  [3, 7, 14, 32, 32, 32, 45, 45, 51, 0]\n",
      "endtimes: [0, 0, 1, 2, 2, 4, 5, 7, 8]\n",
      "starttime [-4, -3, 1, 1, -2, 0, 4, 4, 4]\n",
      "k= 6\n",
      "found endtime 5 start time 6\n",
      "dp=  [3, 7, 14, 32, 32, 32, 45, 45, 51, 51]\n",
      "[3, 7, 14, 32, 32, 32, 45, 45, 51, 51]\n"
     ]
    }
   ],
   "source": [
    "\n",
    "# find best schedule\n",
    "dp = [0 for _ in range(10)] # dp[i] for maximum value using first i jobs\n",
    "dp[0] = values[0]\n",
    "for i in range(1,10):\n",
    "    print('endtimes:', endtimes[:i])\n",
    "    print('starttime',starttimes[:i])\n",
    "    k = bisect_right(endtimes[:i], starttimes[i])\n",
    "    \n",
    "    if(k>0):\n",
    "        print('k=',k-1)\n",
    "        print('found endtime',endtimes[k-1],'start time',starttimes[i])\n",
    "        dp[i] = max(dp[i-1], dp[k-1]+values[i])\n",
    "    else:\n",
    "        dp[i] = max(dp[i-1], values[i])\n",
    "    print('dp= ', dp)\n",
    "\n",
    "print(dp)"
   ]
  },
  {
   "cell_type": "code",
   "execution_count": 62,
   "id": "afb4d7b4",
   "metadata": {},
   "outputs": [
    {
     "name": "stdout",
     "output_type": "stream",
     "text": [
      "------ i =  1 -------\n",
      "cur value is  3\n",
      "endtimes: []\n",
      "starttime -4\n",
      "k= -1\n",
      "dp=  [0, 3, 0, 0, 0, 0, 0, 0, 0, 0, 0]\n",
      "------ i =  2 -------\n",
      "cur value is  7\n",
      "endtimes: [0]\n",
      "starttime -3\n",
      "k= -1\n",
      "dp=  [0, 3, 7, 0, 0, 0, 0, 0, 0, 0, 0]\n",
      "------ i =  3 -------\n",
      "cur value is  7\n",
      "endtimes: [0, 0]\n",
      "starttime 1\n",
      "k= 1\n",
      "found endtime 0 start time 1\n",
      "dp=  [0, 3, 7, 14, 0, 0, 0, 0, 0, 0, 0]\n",
      "------ i =  4 -------\n",
      "cur value is  18\n",
      "endtimes: [0, 0, 1]\n",
      "starttime 1\n",
      "k= 2\n",
      "found endtime 1 start time 1\n",
      "dp=  [0, 3, 7, 14, 32, 0, 0, 0, 0, 0, 0]\n",
      "------ i =  5 -------\n",
      "cur value is  0\n",
      "endtimes: [0, 0, 1, 2]\n",
      "starttime -2\n",
      "k= -1\n",
      "dp=  [0, 3, 7, 14, 32, 32, 0, 0, 0, 0, 0]\n",
      "------ i =  6 -------\n",
      "cur value is  12\n",
      "endtimes: [0, 0, 1, 2, 2]\n",
      "starttime 0\n",
      "k= 1\n",
      "found endtime 0 start time 0\n",
      "dp=  [0, 3, 7, 14, 32, 32, 32, 0, 0, 0, 0]\n",
      "------ i =  7 -------\n",
      "cur value is  13\n",
      "endtimes: [0, 0, 1, 2, 2, 4]\n",
      "starttime 4\n",
      "k= 5\n",
      "found endtime 4 start time 4\n",
      "dp=  [0, 3, 7, 14, 32, 32, 32, 45, 0, 0, 0]\n",
      "------ i =  8 -------\n",
      "cur value is  8\n",
      "endtimes: [0, 0, 1, 2, 2, 4, 5]\n",
      "starttime 4\n",
      "k= 5\n",
      "found endtime 4 start time 4\n",
      "dp=  [0, 3, 7, 14, 32, 32, 32, 45, 45, 0, 0]\n",
      "------ i =  9 -------\n",
      "cur value is  19\n",
      "endtimes: [0, 0, 1, 2, 2, 4, 5, 7]\n",
      "starttime 4\n",
      "k= 5\n",
      "found endtime 4 start time 4\n",
      "dp=  [0, 3, 7, 14, 32, 32, 32, 45, 45, 51, 0]\n",
      "------ i =  10 -------\n",
      "cur value is  4\n",
      "endtimes: [0, 0, 1, 2, 2, 4, 5, 7, 8]\n",
      "starttime 6\n",
      "k= 6\n",
      "found endtime 5 start time 6\n",
      "dp=  [0, 3, 7, 14, 32, 32, 32, 45, 45, 51, 51]\n",
      "[0, 3, 7, 14, 32, 32, 32, 45, 45, 51, 51]\n"
     ]
    }
   ],
   "source": [
    "# find best schedule\n",
    "dp = [0 for _ in range(10+1)] # dp[i] for maximum value using first i jobs, dp[0] for using no interval\n",
    "dp[0] = 0\n",
    "for i in range(1,11):\n",
    "    print('------ i = ',i,'-------')\n",
    "    print('cur value is ', values[i-1])\n",
    "    print('endtimes:', endtimes[:i-1])\n",
    "    print('starttime',starttimes[i-1])\n",
    "    k = bisect_right(endtimes[:i-1], starttimes[i-1])\n",
    "    \n",
    "    print('k=',k-1)\n",
    "    if(k-1>=0):\n",
    "        print('found endtime',endtimes[k-1],'start time',starttimes[i-1])\n",
    "        dp[i] = max(dp[i-1], dp[k]+values[i-1])\n",
    "    else:\n",
    "        dp[i] = max(dp[i-1], values[i-1])\n",
    "\n",
    "    print('dp= ', dp)\n",
    "\n",
    "print(dp)"
   ]
  },
  {
   "cell_type": "code",
   "execution_count": null,
   "id": "c51599fb",
   "metadata": {},
   "outputs": [],
   "source": []
  }
 ],
 "metadata": {
  "kernelspec": {
   "display_name": "Python 3",
   "language": "python",
   "name": "python3"
  },
  "language_info": {
   "codemirror_mode": {
    "name": "ipython",
    "version": 3
   },
   "file_extension": ".py",
   "mimetype": "text/x-python",
   "name": "python",
   "nbconvert_exporter": "python",
   "pygments_lexer": "ipython3",
   "version": "3.8.8"
  }
 },
 "nbformat": 4,
 "nbformat_minor": 5
}
