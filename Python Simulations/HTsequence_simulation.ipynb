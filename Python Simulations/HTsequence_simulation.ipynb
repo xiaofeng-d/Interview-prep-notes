{
 "cells": [
  {
   "cell_type": "code",
   "execution_count": 8,
   "id": "ca70e46e",
   "metadata": {},
   "outputs": [],
   "source": [
    "import numpy as np\n",
    "# generatge random H or T\n",
    "\n",
    "num_sim = 2000\n",
    "sim_length= 5000\n",
    "rand_arr = np.random.random( ( num_sim,sim_length) )\n",
    "ht_arr = np.full((num_sim, sim_length), 'T')\n",
    "ht_arr[rand_arr > 0.5 ] = 'H'"
   ]
  },
  {
   "cell_type": "markdown",
   "id": "d6aba99a",
   "metadata": {},
   "source": [
    "这里解决的问题：如果连续抛掷均匀硬币（获得H/T),那么第一次出现除HH之外的pattern(HT, TH, TT)，期望的投掷次数是多少？"
   ]
  },
  {
   "cell_type": "code",
   "execution_count": 9,
   "id": "9f5cc683",
   "metadata": {},
   "outputs": [
    {
     "data": {
      "text/plain": [
       "array([['T', 'H', 'H', ..., 'T', 'H', 'H'],\n",
       "       ['T', 'T', 'H', ..., 'T', 'H', 'H'],\n",
       "       ['T', 'T', 'T', ..., 'H', 'T', 'T'],\n",
       "       ...,\n",
       "       ['H', 'T', 'T', ..., 'T', 'T', 'H'],\n",
       "       ['T', 'H', 'H', ..., 'H', 'T', 'H'],\n",
       "       ['H', 'T', 'H', ..., 'T', 'H', 'T']], dtype='<U1')"
      ]
     },
     "execution_count": 9,
     "metadata": {},
     "output_type": "execute_result"
    }
   ],
   "source": [
    "ht_arr"
   ]
  },
  {
   "cell_type": "code",
   "execution_count": 10,
   "id": "2e01e779",
   "metadata": {},
   "outputs": [],
   "source": [
    "def find_pattern(arr):\n",
    "    for i in range(arr.size):\n",
    "        \n",
    "        if (arr[i+1],arr[i]) != ('H','H'):\n",
    "            \n",
    "            return i+2\n",
    "    \n",
    "    return arr.size"
   ]
  },
  {
   "cell_type": "code",
   "execution_count": 11,
   "id": "246f332f",
   "metadata": {},
   "outputs": [],
   "source": [
    "results = np.apply_along_axis(find_pattern, axis=1, arr= ht_arr)"
   ]
  },
  {
   "cell_type": "code",
   "execution_count": 12,
   "id": "7214545c",
   "metadata": {},
   "outputs": [
    {
     "data": {
      "text/plain": [
       "2.488"
      ]
     },
     "execution_count": 12,
     "metadata": {},
     "output_type": "execute_result"
    }
   ],
   "source": [
    "results.mean()"
   ]
  },
  {
   "cell_type": "markdown",
   "id": "68f38303",
   "metadata": {},
   "source": [
    "改一下函数可以得出，第一次得到HT的期望投掷次数是多少？"
   ]
  },
  {
   "cell_type": "code",
   "execution_count": 15,
   "id": "77a7176f",
   "metadata": {},
   "outputs": [
    {
     "data": {
      "text/plain": [
       "4.0325"
      ]
     },
     "execution_count": 15,
     "metadata": {},
     "output_type": "execute_result"
    }
   ],
   "source": [
    "def find_pattern(arr):\n",
    "    for i in range(arr.size):\n",
    "        \n",
    "        if (arr[i+1],arr[i]) == ('H','T'):\n",
    "            \n",
    "            return i+2\n",
    "    \n",
    "    return arr.size\n",
    "results = np.apply_along_axis(find_pattern, axis=1, arr= ht_arr)\n",
    "results.mean()"
   ]
  },
  {
   "cell_type": "markdown",
   "id": "fe288dbf",
   "metadata": {},
   "source": [
    "第一次得到TT的期望投掷次数是多少？\n"
   ]
  },
  {
   "cell_type": "code",
   "execution_count": 17,
   "id": "f3f5b8b7",
   "metadata": {},
   "outputs": [
    {
     "data": {
      "text/plain": [
       "5.893"
      ]
     },
     "execution_count": 17,
     "metadata": {},
     "output_type": "execute_result"
    }
   ],
   "source": [
    "def find_pattern(arr):\n",
    "    for i in range(arr.size):\n",
    "        \n",
    "        if (arr[i+1],arr[i]) == ('T','T'):\n",
    "            \n",
    "            return i+2\n",
    "    \n",
    "    return arr.size\n",
    "results = np.apply_along_axis(find_pattern, axis=1, arr= ht_arr)\n",
    "results.mean()"
   ]
  },
  {
   "cell_type": "markdown",
   "id": "a018c4e8",
   "metadata": {},
   "source": [
    "用条件期望来解析计算，可以得到和simulation同样的结果。"
   ]
  },
  {
   "cell_type": "code",
   "execution_count": null,
   "id": "a3aff89e",
   "metadata": {},
   "outputs": [],
   "source": []
  }
 ],
 "metadata": {
  "kernelspec": {
   "display_name": "Python 3",
   "language": "python",
   "name": "python3"
  },
  "language_info": {
   "codemirror_mode": {
    "name": "ipython",
    "version": 3
   },
   "file_extension": ".py",
   "mimetype": "text/x-python",
   "name": "python",
   "nbconvert_exporter": "python",
   "pygments_lexer": "ipython3",
   "version": "3.8.8"
  }
 },
 "nbformat": 4,
 "nbformat_minor": 5
}
